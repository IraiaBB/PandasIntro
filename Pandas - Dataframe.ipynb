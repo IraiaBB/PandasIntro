{
 "cells": [
  {
   "cell_type": "markdown",
   "metadata": {},
   "source": [
    "# Pandas Dataframe\n",
    "\n",
    ">A Dataframe is a two-dimensional array, so it has two index: columns and rows \n",
    "\n",
    "#### New DataFrame\n",
    "\n",
    "1. Create dictionary : `info = { \"column_name\" : [value_row_0, value_row_1, ..., value_row_n]}`\n",
    "2. Convert to DF : `pd.DataFrame(info)`\n",
    "3. Add column : all different values have to be ordered in a list. A single value will be assigned to all the rows.\n",
    "4. Name index : each row can have a named index instead of numbers\n",
    "5. Assign column as index : another option is to use one column values as a named index (similar to primary key)\n"
   ]
  },
  {
   "cell_type": "code",
   "execution_count": null,
   "metadata": {},
   "outputs": [],
   "source": [
    "import pandas as pd\n",
    "##1\n",
    "books_info = {'title': [\"Long bright river\", \"Topics of conversation\", \"We wish you luck\"],\n",
    "               \"author\": [\"Liz Moore\", \"Miranda Popkey\", \"Caroline Zancan\"],\n",
    "               \"pages\": [320, 384, 279],\n",
    "               \"editor\": [\"Riverhead Books, U.S.\", \"Harper Collins Publ. USA\", \"MCD\" ]}\n",
    "##2\n",
    "books_df = pd.DataFrame(books_info)"
   ]
  },
  {
   "cell_type": "code",
   "execution_count": null,
   "metadata": {},
   "outputs": [],
   "source": [
    "##Output\n",
    "books_df"
   ]
  },
  {
   "cell_type": "code",
   "execution_count": null,
   "metadata": {},
   "outputs": [],
   "source": [
    "##3\n",
    "books_df[\"year\"] = 2020  ##all the rows will have the same value as all the books are from this year"
   ]
  },
  {
   "cell_type": "code",
   "execution_count": null,
   "metadata": {},
   "outputs": [],
   "source": [
    "##4\n",
    "books_df.index = [\"one\", \"two\", \"three\"]"
   ]
  },
  {
   "cell_type": "code",
   "execution_count": 6,
   "metadata": {},
   "outputs": [],
   "source": [
    "##5\n",
    "books_df = books_df.set_index([\"title\"])  "
   ]
  },
  {
   "cell_type": "markdown",
   "metadata": {},
   "source": [
    "#### Accessing data\n",
    "\n",
    "Comment the code for executing one line at a time or use `print()`\n",
    "\n",
    "- By row\n",
    "    \n",
    "    1. Range of rows\n",
    "    2. Specific row : `df.loc[\"index\"]` --> the index can be number or string \n",
    "\n",
    "\n",
    "- By column\n",
    "\n",
    "    1. Rows and columns in that order. It can be a single value or a range, but `.iloc[ : , ]` only works with numbers (a).        To write column or row-index names, use `.loc[]` (b).\n",
    "    2. Single column"
   ]
  },
  {
   "cell_type": "code",
   "execution_count": 22,
   "metadata": {},
   "outputs": [],
   "source": [
    "import pandas as pd\n",
    "books_info = {'title': [\"Long bright river\", \"Topics of conversation\", \"We wish you luck\"],\n",
    "               \"author\": [\"Liz Moore\", \"Miranda Popkey\", \"Caroline Zancan\"],\n",
    "               \"pages\": [320, 384, 279],\n",
    "               \"editor\": [\"Riverhead Books, U.S.\", \"Harper Collins Publ. USA\", \"MCD\" ]}\n",
    "books = pd.DataFrame(books_info)\n"
   ]
  },
  {
   "cell_type": "code",
   "execution_count": null,
   "metadata": {},
   "outputs": [],
   "source": [
    "##By rows\n",
    "books[1:]     ##1\n",
    "books.loc[0]  ##2"
   ]
  },
  {
   "cell_type": "code",
   "execution_count": null,
   "metadata": {},
   "outputs": [],
   "source": [
    "##By column\n",
    "books.iloc[:2, :1]                   ##1a\n",
    "books.loc[1, [\"title\", \"author\"]]    ##1b\n",
    "books[\"pages\"]                       ##2"
   ]
  },
  {
   "cell_type": "markdown",
   "metadata": {},
   "source": [
    "#### Delete\n",
    "\n",
    "1. By row\n",
    "2. By column"
   ]
  },
  {
   "cell_type": "code",
   "execution_count": null,
   "metadata": {},
   "outputs": [],
   "source": [
    "import pandas as pd\n",
    "books_info = {'title': [\"Long bright river\", \"Topics of conversation\", \"We wish you luck\"],\n",
    "               \"author\": [\"Liz Moore\", \"Miranda Popkey\", \"Caroline Zancan\"],\n",
    "               \"pages\": [320, 384, 279],\n",
    "               \"editor\": [\"Riverhead Books, U.S.\", \"Harper Collins Publ. USA\", \"MCD\" ]}\n",
    "books = pd.DataFrame(books_info)"
   ]
  },
  {
   "cell_type": "code",
   "execution_count": 10,
   "metadata": {},
   "outputs": [],
   "source": [
    "##1\n",
    "books.drop([1]) "
   ]
  },
  {
   "cell_type": "code",
   "execution_count": null,
   "metadata": {},
   "outputs": [],
   "source": [
    "##2\n",
    "del books[\"editor\"] \n",
    "books"
   ]
  },
  {
   "cell_type": "markdown",
   "metadata": {},
   "source": [
    "#### Reading files\n",
    "\n",
    "1. Pass the name of the file as a parameter to `.read_csv()` function. With `index_col=None` we are sayng that column names    won't be counted as another row. \n",
    "\n",
    "\n",
    "2. DF can be very long so only part of the data is shown. `head()` and `tail()`display the first 5 rows and the last,          respectively. You can change the number of rows displayed by passing the desired number as a parameter in the both          functions. \n",
    "\n",
    "\n",
    "3. For showing the both at the same time (head and tail) we can use `pd.set_option()`. With `\"max_rows\"` and a number, it      will display that number of rows, the half from the head and the other half from the tail, so it has to be an even          number, or it will take that number -1. `\"max_columns\"` does the same. In the example we want to see 4 columns that are    the first, the second, the last and the last-1, ignoring the middle ones with three dots(...).\n"
   ]
  },
  {
   "cell_type": "code",
   "execution_count": null,
   "metadata": {},
   "outputs": [],
   "source": [
    "import pandas as pd\n",
    "\n",
    "c = pd.read_csv(\"cast.csv\", index_col=None) ##1\n",
    "c.loc[0]"
   ]
  },
  {
   "cell_type": "code",
   "execution_count": null,
   "metadata": {},
   "outputs": [],
   "source": [
    "print(c.head()) ##first 5 rows              ##2\n",
    "print(c.tail()) ##last five"
   ]
  },
  {
   "cell_type": "code",
   "execution_count": null,
   "metadata": {},
   "outputs": [],
   "source": [
    "pd.set_option(\"max_rows\", 8, \"max_columns\", 4) ##3\n",
    "print(c)\n",
    "\n",
    "len(c)                                         ##4"
   ]
  },
  {
   "cell_type": "markdown",
   "metadata": {},
   "source": [
    "#### Filtering\n",
    "\n",
    "With boolean conditions in the braces, we are saying that we just want to see those rows where the condition is evaluated as True. We can add as many conditions as we want using boolean operators "
   ]
  },
  {
   "cell_type": "code",
   "execution_count": null,
   "metadata": {},
   "outputs": [],
   "source": [
    "import pandas as pd\n",
    "\n",
    "t = pd.read_csv(\"cast.csv\", index_col=None) \n",
    "\n",
    "century21 = t[(t[\"year\"]>=2000) & (t[\"year\"]<=2010)]\n",
    "century21"
   ]
  },
  {
   "cell_type": "markdown",
   "metadata": {},
   "source": [
    "#### Sorting\n",
    "\n",
    "1. By default, rows are sorted by index. With `sort_values()`, rows can be ordered by any column, by passing it's name as a parameter.\n",
    "\n",
    "2. In case you have a dataframe sorted by any column and you want to sort it back by index, there's the `sort_index()` method, which order as the default again."
   ]
  },
  {
   "cell_type": "code",
   "execution_count": 7,
   "metadata": {},
   "outputs": [],
   "source": [
    "import pandas as pd\n",
    "\n",
    "t = pd.read_csv(\"cast.csv\", index_col=None) \n",
    "\n",
    "##1\n",
    "movies2000 = t[t[\"year\"]==2000]\n",
    "sort2000 = movies2000.sort_values(\"title\")\n",
    "#sort2000"
   ]
  },
  {
   "cell_type": "code",
   "execution_count": null,
   "metadata": {},
   "outputs": [],
   "source": [
    "##2\n",
    "default2000 = sort2000.sort_index()\n",
    "default2000  #now, default2000 = movies2000"
   ]
  },
  {
   "cell_type": "markdown",
   "metadata": {},
   "source": [
    "#### Null values\n",
    "\n",
    "1. The `isnull()` method returns True if the row's values of the selected column are null. The opposite is `notnull()`, that returns True for not null values.\n",
    "\n",
    "\n",
    "2. To display those rows evaluated as True, it has to be passed to the dataframe as the boolean conditions we have seen before.\n"
   ]
  },
  {
   "cell_type": "code",
   "execution_count": 13,
   "metadata": {},
   "outputs": [],
   "source": [
    "import pandas as pd\n",
    "\n",
    "c = pd.read_csv(\"cast.csv\", index_col=None) "
   ]
  },
  {
   "cell_type": "code",
   "execution_count": null,
   "metadata": {},
   "outputs": [],
   "source": [
    "c['n'].isnull().head()       ##1"
   ]
  },
  {
   "cell_type": "code",
   "execution_count": null,
   "metadata": {},
   "outputs": [],
   "source": [
    "c[c['n'].isnull()].head()    ##2"
   ]
  },
  {
   "cell_type": "markdown",
   "metadata": {},
   "source": [
    "#### Strings\n",
    "\n",
    "Another way of filtering data can be by thee beginning of a string."
   ]
  },
  {
   "cell_type": "code",
   "execution_count": null,
   "metadata": {},
   "outputs": [],
   "source": [
    "import pandas as pd\n",
    "\n",
    "c = pd.read_csv(\"cast.csv\", index_col=None) \n",
    "\n",
    "c[c[\"title\"].str.startswith(\"Maa\")]"
   ]
  },
  {
   "cell_type": "markdown",
   "metadata": {},
   "source": [
    "#### Group by\n",
    "\n",
    "1. Ocurrences of each value in a column can be counted with `value_counts()`. Of course, for unique values in a table it doesn't have sense. For example, in one year are released a lot of movies, so we can use this function to know the number of movies for a specific year.\n",
    "\n",
    "\n",
    "2. Another way of doing the same is to apply the `size()` method to `groupby()`. With the last, as the name says, data is grouped by the same value of the column selected, so movies from the same year are in the same group. With `size()` you get the number of rows from that group. \n",
    "\n",
    "\n",
    "3. Other operations can be done with `groupby()` like the media of the columns grouped by year.\n",
    "\n",
    "\n",
    "4. This method not just works with column names as a parameter, you can create you own agrupations by a custom field from a column. For example, for grouping by decade we have to calculate it from the year value."
   ]
  },
  {
   "cell_type": "code",
   "execution_count": 10,
   "metadata": {},
   "outputs": [],
   "source": [
    "import pandas as pd\n",
    "\n",
    "c = pd.read_csv(\"cast.csv\", index_col=None) "
   ]
  },
  {
   "cell_type": "code",
   "execution_count": null,
   "metadata": {},
   "outputs": [],
   "source": [
    "##1\n",
    "count = c[\"year\"].value_counts()\n",
    "count[2000]"
   ]
  },
  {
   "cell_type": "code",
   "execution_count": null,
   "metadata": {},
   "outputs": [],
   "source": [
    "##2\n",
    "count = c.groupby(\"year\").size()\n",
    "count[2000]"
   ]
  },
  {
   "cell_type": "code",
   "execution_count": null,
   "metadata": {},
   "outputs": [],
   "source": [
    "##3\n",
    "mean = c.groupby(\"year\").mean()\n",
    "mean"
   ]
  },
  {
   "cell_type": "code",
   "execution_count": null,
   "metadata": {},
   "outputs": [],
   "source": [
    "##4\n",
    "decade = c[\"year\"] // 10 * 10  #this operation exchanges the last number by a 0, so the decade can be obtained\n",
    "count_dec = c.groupby(decade).size()\n",
    "count_dec"
   ]
  }
 ],
 "metadata": {
  "kernelspec": {
   "display_name": "Python 3",
   "language": "python",
   "name": "python3"
  },
  "language_info": {
   "codemirror_mode": {
    "name": "ipython",
    "version": 3
   },
   "file_extension": ".py",
   "mimetype": "text/x-python",
   "name": "python",
   "nbconvert_exporter": "python",
   "pygments_lexer": "ipython3",
   "version": "3.7.6"
  }
 },
 "nbformat": 4,
 "nbformat_minor": 4
}
